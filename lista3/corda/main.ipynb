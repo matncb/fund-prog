{
 "cells": [
  {
   "cell_type": "code",
   "execution_count": 97,
   "metadata": {},
   "outputs": [],
   "source": [
    "import numpy as np"
   ]
  },
  {
   "cell_type": "code",
   "execution_count": 98,
   "metadata": {},
   "outputs": [],
   "source": [
    "def particionar(N, L, rho, dx): #N subintervalos #L tamanho da corda # rho(x) função densidade\n",
    "    l_0 = L/N #tamanho do subintervalo\n",
    "    rho = np.vectorize(rho) #vetorizando a função\n",
    "    x = np.array([]) #coordenadas das N-1 partículas\n",
    "    m = np.array([]) #massa das particulas\n",
    "    \n",
    "    #definir a função o comrimento da corda de forma numérica\n",
    "    x_num = np.arange(0, L, dx) #intervalos dx entre cada ponto\n",
    "    dm = dx*rho(x_num) #pequenas variações de massa\n",
    "    \n",
    "    for i in range(N-1):\n",
    "        if i == 0:\n",
    "            x_i = l_0\n",
    "            m_i = np.sum(dm[0:int(3*l_0/2 * 1/dx)]) #integrar até o mais próximo possível de 3*l_0/2\n",
    "        elif i == (N-2):\n",
    "            x_i = x[-1] + l_0\n",
    "            m_i = np.sum(dm[int((x_i- l_0/2) * 1/dx):]) #integrar até o final da corda\n",
    "            \n",
    "        else:\n",
    "            x_i = x[-1] + l_0\n",
    "            m_i = np.sum(dm[int((x_i- l_0/2) * 1/dx) : int((x_i+ l_0/2) * 1/dx)]) #integrar ao redor do ponto da massa\n",
    "            \n",
    "        x = np.append(x, np.array([x_i]))\n",
    "        m = np.append(m, np.array([m_i]))\n",
    "        \n",
    "    return x, m"
   ]
  },
  {
   "cell_type": "code",
   "execution_count": null,
   "metadata": {},
   "outputs": [],
   "source": [
    "#montar equacoes\n",
    "\n",
    "def equacoes(x, m, f):\n",
    "    l_0/T *()"
   ]
  },
  {
   "cell_type": "code",
   "execution_count": 100,
   "metadata": {},
   "outputs": [
    {
     "data": {
      "text/plain": [
       "array([0.01875  , 0.0125   , 0.0125   , 0.0125   , 0.0125   , 0.0125   ,\n",
       "       0.0125001, 0.0125001, 0.0125001, 0.0125   , 0.0125001, 0.0125   ,\n",
       "       0.0125   , 0.0125   , 0.0125   , 0.0125   , 0.0125   , 0.0125   ,\n",
       "       0.0125   , 0.0125   , 0.0125   , 0.0125   , 0.0125   , 0.0125   ,\n",
       "       0.0125   , 0.0125   , 0.0125   , 0.0125   , 0.0125   , 0.0125   ,\n",
       "       0.0125   , 0.0125   , 0.0125   , 0.0125   , 0.0125   , 0.0125   ,\n",
       "       0.0125   , 0.0125   , 0.0125   , 0.0125   , 0.0125   , 0.0125   ,\n",
       "       0.0125   , 0.0125   , 0.0125   , 0.0125   , 0.0124999, 0.0125   ,\n",
       "       0.0125   , 0.0125   , 0.0125   , 0.0125   , 0.0125   , 0.0125   ,\n",
       "       0.0125   , 0.0125   , 0.0125   , 0.0125   , 0.0125   , 0.0125   ,\n",
       "       0.0125   , 0.0125   , 0.0125   , 0.0125   , 0.0125   , 0.0125   ,\n",
       "       0.0125   , 0.0125   , 0.0125   , 0.0125   , 0.0125   , 0.0125   ,\n",
       "       0.0125   , 0.0125   , 0.0125   , 0.0125   , 0.0125   , 0.0125   ,\n",
       "       0.0187501])"
      ]
     },
     "execution_count": 100,
     "metadata": {},
     "output_type": "execute_result"
    }
   ],
   "source": [
    "L = 1\n",
    "T = 2\n",
    "rho = lambda x: 1 \n",
    "\n",
    "x, m = particionar(80, L, rho, 1e-7)\n",
    "m"
   ]
  },
  {
   "cell_type": "code",
   "execution_count": null,
   "metadata": {},
   "outputs": [],
   "source": []
  }
 ],
 "metadata": {
  "kernelspec": {
   "display_name": "Python 3",
   "language": "python",
   "name": "python3"
  },
  "language_info": {
   "codemirror_mode": {
    "name": "ipython",
    "version": 3
   },
   "file_extension": ".py",
   "mimetype": "text/x-python",
   "name": "python",
   "nbconvert_exporter": "python",
   "pygments_lexer": "ipython3",
   "version": "3.10.12"
  }
 },
 "nbformat": 4,
 "nbformat_minor": 2
}
